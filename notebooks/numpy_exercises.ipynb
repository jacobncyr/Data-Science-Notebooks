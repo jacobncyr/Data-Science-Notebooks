{
 "cells": [
  {
   "cell_type": "markdown",
   "metadata": {},
   "source": [
    "# NumPy exercises\n",
    "\n",
    "We are going to practice NumPy skills and basic syntax.\n",
    "\n",
    "We put here also some examples that were not in the tutorial on purpose. Try to use google and offial NumPy documentation to solve these exercises."
   ]
  },
  {
   "cell_type": "markdown",
   "metadata": {},
   "source": [
    "#### 1. Import the numpy package under the name `np` (★☆☆)"
   ]
  },
  {
   "cell_type": "code",
   "execution_count": 5,
   "metadata": {
    "jupyter": {
     "outputs_hidden": true
    }
   },
   "outputs": [],
   "source": [
    "import numpy as np"
   ]
  },
  {
   "cell_type": "markdown",
   "metadata": {},
   "source": [
    "#### 2. Create a null vector of size 10 (★☆☆)"
   ]
  },
  {
   "cell_type": "code",
   "execution_count": 6,
   "metadata": {
    "jupyter": {
     "outputs_hidden": false
    }
   },
   "outputs": [
    {
     "name": "stdout",
     "output_type": "stream",
     "text": [
      "[0. 0. 0. 0. 0. 0. 0. 0. 0. 0.]\n"
     ]
    }
   ],
   "source": [
    "import numpy as np\n",
    "\n",
    "null_vector = np.zeros((10,))\n",
    "print(null_vector)"
   ]
  },
  {
   "cell_type": "markdown",
   "metadata": {},
   "source": [
    "#### 3.  Create a null vector of size 10 but the fifth value which is 1 (★☆☆)"
   ]
  },
  {
   "cell_type": "code",
   "execution_count": 11,
   "metadata": {
    "jupyter": {
     "outputs_hidden": false
    }
   },
   "outputs": [
    {
     "name": "stdout",
     "output_type": "stream",
     "text": [
      "[0. 0. 0. 0. 1. 0. 0. 0. 0. 0.]\n"
     ]
    }
   ],
   "source": [
    "import numpy as np\n",
    "null_vector = np.zeros(10)\n",
    "null_vector[4] = 1\n",
    "print(null_vector)"
   ]
  },
  {
   "cell_type": "markdown",
   "metadata": {},
   "source": [
    "#### 4.  Create a vector with values ranging from 10 to 49 (★☆☆)"
   ]
  },
  {
   "cell_type": "code",
   "execution_count": 14,
   "metadata": {
    "jupyter": {
     "outputs_hidden": false
    }
   },
   "outputs": [
    {
     "name": "stdout",
     "output_type": "stream",
     "text": [
      "[10 11 12 13 14 15 16 17 18 19 20 21 22 23 24 25 26 27 28 29 30 31 32 33\n",
      " 34 35 36 37 38 39 40 41 42 43 44 45 46 47 48 49]\n"
     ]
    }
   ],
   "source": [
    "import numpy as np\n",
    "vector = np.arange(10,50)\n",
    "print(vector)"
   ]
  },
  {
   "cell_type": "markdown",
   "metadata": {},
   "source": [
    "#### 5.  Reverse a vector (first element becomes last) (★☆☆)"
   ]
  },
  {
   "cell_type": "code",
   "execution_count": 16,
   "metadata": {
    "jupyter": {
     "outputs_hidden": false
    }
   },
   "outputs": [
    {
     "name": "stdout",
     "output_type": "stream",
     "text": [
      "[49 48 47 46 45 44 43 42 41 40 39 38 37 36 35 34 33 32 31 30 29 28 27 26\n",
      " 25 24 23 22 21 20 19 18 17 16 15 14 13 12 11 10]\n"
     ]
    }
   ],
   "source": [
    "import numpy as np\n",
    "vector = np.arange(10,50)\n",
    "reversed_vector = vector[::-1]\n",
    "print(reversed_vector)"
   ]
  },
  {
   "cell_type": "markdown",
   "metadata": {},
   "source": [
    "#### 6.  Create a 3x3 matrix with values ranging from 0 to 8 (★☆☆)"
   ]
  },
  {
   "cell_type": "code",
   "execution_count": 18,
   "metadata": {
    "jupyter": {
     "outputs_hidden": false
    }
   },
   "outputs": [
    {
     "name": "stdout",
     "output_type": "stream",
     "text": [
      "[[0 1 2]\n",
      " [3 4 5]\n",
      " [6 7 8]]\n"
     ]
    }
   ],
   "source": [
    "import numpy as np\n",
    "matrix = np.arange(9).reshape((3, 3))\n",
    "print(matrix)"
   ]
  },
  {
   "cell_type": "markdown",
   "metadata": {},
   "source": [
    "#### 7. Find indices of non-zero elements from \\[1,2,0,0,4,0\\] (★☆☆)"
   ]
  },
  {
   "cell_type": "code",
   "execution_count": 19,
   "metadata": {
    "jupyter": {
     "outputs_hidden": false
    }
   },
   "outputs": [
    {
     "name": "stdout",
     "output_type": "stream",
     "text": [
      "(array([0, 1, 2, 5], dtype=int64),)\n"
     ]
    }
   ],
   "source": [
    "import numpy as np\n",
    "array = np.array([1,2,3,0,0,4,0])\n",
    "indices = np.nonzero(array)\n",
    "print(indices)"
   ]
  },
  {
   "cell_type": "markdown",
   "metadata": {},
   "source": [
    "#### 8. Create a 3x3x3 array with random values (★☆☆)"
   ]
  },
  {
   "cell_type": "code",
   "execution_count": 20,
   "metadata": {
    "jupyter": {
     "outputs_hidden": true
    }
   },
   "outputs": [
    {
     "name": "stdout",
     "output_type": "stream",
     "text": [
      "[[[0.81062081 0.02272083 0.94453135]\n",
      "  [0.86845848 0.60101486 0.35757274]\n",
      "  [0.89494946 0.14169703 0.62291385]]\n",
      "\n",
      " [[0.90654813 0.16062396 0.52251329]\n",
      "  [0.16655717 0.60231594 0.32613233]\n",
      "  [0.6509186  0.66046881 0.15003523]]\n",
      "\n",
      " [[0.90623128 0.94518315 0.360447  ]\n",
      "  [0.25819605 0.66678087 0.24388712]\n",
      "  [0.5179702  0.56909191 0.72255106]]]\n"
     ]
    }
   ],
   "source": [
    "import numpy as no\n",
    "array = np.random.random([3,3,3])\n",
    "print(array)"
   ]
  },
  {
   "cell_type": "markdown",
   "metadata": {},
   "source": [
    "#### 9. Create a 10x10 array with random values and find the minimum and maximum values (★☆☆)"
   ]
  },
  {
   "cell_type": "code",
   "execution_count": 21,
   "metadata": {
    "jupyter": {
     "outputs_hidden": false
    }
   },
   "outputs": [
    {
     "name": "stdout",
     "output_type": "stream",
     "text": [
      "array : \n",
      "[[0.09816084 0.22178767 0.15433314 0.60570854 0.66929313 0.23891763\n",
      "  0.08518513 0.50676435 0.75230628 0.83809111]\n",
      " [0.34656295 0.63487599 0.4097695  0.83922803 0.61098922 0.87315551\n",
      "  0.3326302  0.45799301 0.49079245 0.87111559]\n",
      " [0.88084219 0.15306634 0.10306648 0.01916853 0.95534181 0.92074073\n",
      "  0.67344025 0.17724616 0.1135042  0.85772931]\n",
      " [0.35145814 0.40427376 0.31842619 0.59316657 0.52903995 0.59543454\n",
      "  0.47037951 0.93944435 0.40334451 0.961385  ]\n",
      " [0.97443897 0.23038745 0.02796458 0.12803358 0.20145028 0.86514072\n",
      "  0.84519909 0.56607884 0.27099199 0.05313846]\n",
      " [0.39342634 0.31608943 0.45800444 0.17608185 0.16870405 0.54598219\n",
      "  0.22392009 0.60658194 0.53998258 0.12086932]\n",
      " [0.40589617 0.02244274 0.37169651 0.59359884 0.7546175  0.76951593\n",
      "  0.36086566 0.33629975 0.84809495 0.89680355]\n",
      " [0.67050844 0.80476361 0.60571368 0.46166974 0.50670884 0.60734894\n",
      "  0.23561394 0.4783765  0.80986692 0.41717808]\n",
      " [0.88227816 0.25614747 0.42084899 0.88224254 0.59685154 0.70347191\n",
      "  0.23254823 0.26237102 0.3150004  0.82638062]\n",
      " [0.8988697  0.82115567 0.98880412 0.16192778 0.82144372 0.94360273\n",
      "  0.84024133 0.93220165 0.55321597 0.49599501]]\n",
      "minimum value :  0.01916853376375427\n",
      "maximum value :  0.9888041226994986\n"
     ]
    }
   ],
   "source": [
    "import numpy as np\n",
    "array = np.random.random((10,10))\n",
    "print(\"array : \")\n",
    "print(array)\n",
    "\n",
    "min_value = np.min(array)\n",
    "max_value = np.max(array)\n",
    "\n",
    "print(\"minimum value : \", min_value)\n",
    "print(\"maximum value : \", max_value)"
   ]
  },
  {
   "cell_type": "markdown",
   "metadata": {},
   "source": [
    "#### 10. Create a random vector of size 30 and find the mean value (★☆☆)"
   ]
  },
  {
   "cell_type": "code",
   "execution_count": 4,
   "metadata": {
    "jupyter": {
     "outputs_hidden": false
    }
   },
   "outputs": [
    {
     "name": "stdout",
     "output_type": "stream",
     "text": [
      "Vector: \n",
      "[0.53304805 0.6681632  0.97334963 0.84581502 0.39292342 0.71140978\n",
      " 0.3092908  0.58905531 0.94919142 0.00330064 0.11042911 0.87032864\n",
      " 0.96001626 0.7196843  0.17892358 0.40922607 0.38234365 0.55721452\n",
      " 0.50342847 0.72900038 0.71048196 0.27637338 0.37541393 0.55653447\n",
      " 0.03447063 0.24585346 0.78995812 0.54434963 0.10192244 0.50873225]\n",
      "Mean value: 0.5180077510231186\n"
     ]
    }
   ],
   "source": [
    "import numpy as np\n",
    "vector = np.random.rand(30)\n",
    "print('Vector: ')\n",
    "print(vector)\n",
    "\n",
    "mean_value = np.mean(vector)\n",
    "print(\"Mean value:\", mean_value)"
   ]
  },
  {
   "cell_type": "markdown",
   "metadata": {},
   "source": [
    "#### 11. Create a 2d array with 1 on the border and 0 inside (★☆☆)"
   ]
  },
  {
   "cell_type": "code",
   "execution_count": 5,
   "metadata": {
    "jupyter": {
     "outputs_hidden": false
    }
   },
   "outputs": [
    {
     "name": "stdout",
     "output_type": "stream",
     "text": [
      "[[1. 1. 1. 1. 1.]\n",
      " [1. 0. 0. 0. 1.]\n",
      " [1. 0. 0. 0. 1.]\n",
      " [1. 0. 0. 0. 1.]\n",
      " [1. 1. 1. 1. 1.]]\n"
     ]
    }
   ],
   "source": [
    "import numpy as np\n",
    "\n",
    "# Create a 5x5 array initialized with zeros\n",
    "array = np.zeros((5, 5))\n",
    "\n",
    "# Set the border elements to 1\n",
    "array[0, :] = 1  # First row\n",
    "array[-1, :] = 1  # Last row\n",
    "array[:, 0] = 1  # First column\n",
    "array[:, -1] = 1  # Last column\n",
    "\n",
    "print(array)"
   ]
  },
  {
   "cell_type": "markdown",
   "metadata": {},
   "source": [
    "#### 12. How to add a border (filled with 0's) around an existing array? (★☆☆)"
   ]
  },
  {
   "cell_type": "code",
   "execution_count": 7,
   "metadata": {
    "jupyter": {
     "outputs_hidden": false
    }
   },
   "outputs": [
    {
     "name": "stdout",
     "output_type": "stream",
     "text": [
      "[[0. 0. 0. 0. 0. 0. 0.]\n",
      " [0. 1. 1. 1. 1. 1. 0.]\n",
      " [0. 1. 0. 0. 0. 1. 0.]\n",
      " [0. 1. 0. 0. 0. 1. 0.]\n",
      " [0. 1. 0. 0. 0. 1. 0.]\n",
      " [0. 1. 1. 1. 1. 1. 0.]\n",
      " [0. 0. 0. 0. 0. 0. 0.]]\n"
     ]
    }
   ],
   "source": [
    "import numpy as np\n",
    "\n",
    "# Create a 5x5 array initialized with zeros\n",
    "array = np.zeros((5, 5))\n",
    "\n",
    "# Set the border elements to 1\n",
    "array[0, :] = 1  # First row\n",
    "array[-1, :] = 1  # Last row\n",
    "array[:, 0] = 1  # First column\n",
    "array[:, -1] = 1  # Last column\n",
    "\n",
    "# Add border filled with zeros\n",
    "border_array = np.pad(array, pad_width=1, mode='constant', constant_values=0)\n",
    "print(border_array)"
   ]
  },
  {
   "cell_type": "markdown",
   "metadata": {},
   "source": [
    "#### 13. What is the result of the following expression? (★☆☆)"
   ]
  },
  {
   "cell_type": "markdown",
   "metadata": {},
   "source": [
    "```python\n",
    "0 * np.nan\n",
    "np.nan == np.nan\n",
    "np.inf > np.nan\n",
    "np.nan - np.nan\n",
    "np.nan in set([np.nan])\n",
    "0.3 == 3 * 0.1\n",
    "```"
   ]
  },
  {
   "cell_type": "code",
   "execution_count": null,
   "metadata": {
    "jupyter": {
     "outputs_hidden": false
    }
   },
   "outputs": [],
   "source": [
    "0 * np.nan:\n",
    "\n",
    "Result: nan (Not a Number)\n",
    "Explanation: Any operation involving nan (Not a Number) results in nan.\n",
    "np.nan == np.nan:\n",
    "\n",
    "Result: False\n",
    "Explanation: Comparing np.nan with itself or any other value using the equality operator (==) always results in False. This is because np.nan represents an undefined or missing value.\n",
    "np.inf > np.nan:\n",
    "\n",
    "Result: False\n",
    "Explanation: Comparing np.inf (infinity) with np.nan using the greater than operator (>) always results in False. np.nan represents an undefined or missing value, and it is not comparable to any other value, including infinity.\n",
    "np.nan - np.nan:\n",
    "\n",
    "Result: nan\n",
    "Explanation: Subtracting np.nan from np.nan or performing any arithmetic operation involving nan results in nan.\n",
    "np.nan in set([np.nan]):\n",
    "\n",
    "Result: True\n",
    "Explanation: The in operator checks whether a value is present in a given set or list. In this case, np.nan is present in the set [np.nan], so the result is True.\n",
    "0.3 == 3 * 0.1:\n",
    "\n",
    "Result: False\n",
    "Explanation: Due to floating-point precision, the multiplication of 3 * 0.1 does not result in exactly 0.3. Therefore, the comparison 0.3 == 3 * 0.1 evaluates to False. It is recommended to use caution when comparing floating-point numbers for equality.\n",
    "\n",
    "\n",
    "\n"
   ]
  },
  {
   "cell_type": "markdown",
   "metadata": {},
   "source": [
    "#### 14. Create a 5x5 matrix with values 1,2,3,4 just below the diagonal (★☆☆)"
   ]
  },
  {
   "cell_type": "code",
   "execution_count": 8,
   "metadata": {
    "jupyter": {
     "outputs_hidden": false
    }
   },
   "outputs": [
    {
     "name": "stdout",
     "output_type": "stream",
     "text": [
      "[[0. 0. 0. 0. 0.]\n",
      " [1. 0. 0. 0. 0.]\n",
      " [0. 2. 0. 0. 0.]\n",
      " [0. 0. 3. 0. 0.]\n",
      " [0. 0. 0. 4. 0.]]\n"
     ]
    }
   ],
   "source": [
    "import numpy as np\n",
    "\n",
    "matrix = np.zeros((5, 5))\n",
    "values = np.array([1, 2, 3, 4])\n",
    "\n",
    "np.fill_diagonal(matrix[1:], values)\n",
    "\n",
    "print(matrix)"
   ]
  },
  {
   "cell_type": "markdown",
   "metadata": {},
   "source": [
    "#### 15. Consider a (6,7,8) shape array, what is the index (x,y,z) of the 100th element?"
   ]
  },
  {
   "cell_type": "code",
   "execution_count": 9,
   "metadata": {
    "jupyter": {
     "outputs_hidden": false
    }
   },
   "outputs": [
    {
     "name": "stdout",
     "output_type": "stream",
     "text": [
      "Index (x, y, z) of the 100th element: (1, 5, 3)\n"
     ]
    }
   ],
   "source": [
    "#To determine the index (x, y, z) of the 100th element in a (6, 7, 8) shaped array, you can use NumPy's unravel_index() function. Here's an example:\n",
    "\n",
    "\n",
    "import numpy as np\n",
    "\n",
    "shape = (6, 7, 8)\n",
    "total_elements = np.prod(shape)  # Compute the total number of elements\n",
    "index_100 = 99  # Zero-based index of the 100th element\n",
    "\n",
    "indices = np.unravel_index(index_100, shape)\n",
    "x, y, z = indices\n",
    "\n",
    "print(\"Index (x, y, z) of the 100th element:\", indices)"
   ]
  },
  {
   "cell_type": "markdown",
   "metadata": {},
   "source": [
    "#### 16. Normalize a 5x5 random matrix (★☆☆)"
   ]
  },
  {
   "cell_type": "code",
   "execution_count": 10,
   "metadata": {
    "jupyter": {
     "outputs_hidden": false
    }
   },
   "outputs": [
    {
     "name": "stdout",
     "output_type": "stream",
     "text": [
      "Original matrix:\n",
      "[[0.21294372 0.32735342 0.06414757 0.26715291 0.00900293]\n",
      " [0.38217242 0.3302126  0.41788531 0.60997579 0.82108344]\n",
      " [0.65330522 0.75015931 0.43128525 0.58562625 0.40019101]\n",
      " [0.27891085 0.5252661  0.09674245 0.3316868  0.51003733]\n",
      " [0.42806817 0.11752177 0.94369766 0.0397195  0.63688359]]\n",
      "Normalized matrix:\n",
      "[[0.08989901 0.13819966 0.02708135 0.11278465 0.00380079]\n",
      " [0.16134274 0.13940673 0.17641975 0.2575151  0.34663897]\n",
      " [0.2758076  0.31669675 0.18207684 0.24723539 0.1689497 ]\n",
      " [0.11774853 0.22175298 0.04084201 0.14002909 0.21532381]\n",
      " [0.18071867 0.04961448 0.39840334 0.01676849 0.26887483]]\n"
     ]
    }
   ],
   "source": [
    "import numpy as np\n",
    "\n",
    "# Create a 5x5 random matrix\n",
    "matrix = np.random.random((5, 5))\n",
    "print(\"Original matrix:\")\n",
    "print(matrix)\n",
    "\n",
    "# Normalize the matrix\n",
    "normalized_matrix = np.linalg.norm(matrix)\n",
    "normalized_matrix = matrix / normalized_matrix\n",
    "\n",
    "print(\"Normalized matrix:\")\n",
    "print(normalized_matrix)"
   ]
  },
  {
   "cell_type": "markdown",
   "metadata": {},
   "source": [
    "#### 17. Given a 1D array, negate all elements which are between 3 and 8, in place. (★☆☆)"
   ]
  },
  {
   "cell_type": "code",
   "execution_count": 11,
   "metadata": {
    "jupyter": {
     "outputs_hidden": false
    }
   },
   "outputs": [
    {
     "name": "stdout",
     "output_type": "stream",
     "text": [
      "[ 1 -5 -7 -4  9  2 -6  3  8]\n"
     ]
    }
   ],
   "source": [
    "import numpy as np\n",
    "\n",
    "# Create a 1D array\n",
    "array = np.array([1, 5, 7, 4, 9, 2, 6, 3, 8])\n",
    "\n",
    "# Negate elements between 3 and 8\n",
    "array[(array > 3) & (array < 8)] *= -1\n",
    "\n",
    "print(array)"
   ]
  },
  {
   "cell_type": "markdown",
   "metadata": {},
   "source": [
    "#### 18. How to round away from zero a float array ? (★☆☆)"
   ]
  },
  {
   "cell_type": "code",
   "execution_count": 12,
   "metadata": {
    "jupyter": {
     "outputs_hidden": false
    }
   },
   "outputs": [
    {
     "name": "stdout",
     "output_type": "stream",
     "text": [
      "[-2.  2.  4. -4.  6.]\n"
     ]
    }
   ],
   "source": [
    "import numpy as np\n",
    "\n",
    "# Create a float array\n",
    "array = np.array([-2.3, 1.5, 3.8, -4.1, 5.7])\n",
    "\n",
    "# Round away from zero\n",
    "rounded_array = np.ceil(array)\n",
    "\n",
    "print(rounded_array)"
   ]
  },
  {
   "cell_type": "markdown",
   "metadata": {},
   "source": [
    "#### 19. Find common values between two arrays? (★☆☆)"
   ]
  },
  {
   "cell_type": "code",
   "execution_count": 13,
   "metadata": {
    "jupyter": {
     "outputs_hidden": false
    }
   },
   "outputs": [
    {
     "name": "stdout",
     "output_type": "stream",
     "text": [
      "[4 5]\n"
     ]
    }
   ],
   "source": [
    "import numpy as np\n",
    "\n",
    "# Create two arrays\n",
    "array1 = np.array([1, 2, 3, 4, 5])\n",
    "array2 = np.array([4, 5, 6, 7, 8])\n",
    "\n",
    "# Find common values\n",
    "common_values = np.intersect1d(array1, array2)\n",
    "\n",
    "print(common_values)"
   ]
  },
  {
   "cell_type": "markdown",
   "metadata": {},
   "source": [
    "#### 20. Is the following expressions true? (★☆☆)"
   ]
  },
  {
   "cell_type": "markdown",
   "metadata": {},
   "source": [
    "```python\n",
    "np.sqrt(-1) == np.emath.sqrt(-1)\n",
    "```"
   ]
  },
  {
   "cell_type": "code",
   "execution_count": null,
   "metadata": {
    "jupyter": {
     "outputs_hidden": false
    }
   },
   "outputs": [],
   "source": [
    "#no it is false imaginary numbers need to be handled with the emath.sqrt(-1)"
   ]
  },
  {
   "cell_type": "markdown",
   "metadata": {},
   "source": [
    "#### 21. Consider a generator function that generates 10 integers and use it to build an array (★☆☆)"
   ]
  },
  {
   "cell_type": "code",
   "execution_count": 14,
   "metadata": {
    "jupyter": {
     "outputs_hidden": false
    }
   },
   "outputs": [
    {
     "name": "stdout",
     "output_type": "stream",
     "text": [
      "[0 1 2 3 4 5 6 7 8 9]\n"
     ]
    }
   ],
   "source": [
    "import numpy as np\n",
    "\n",
    "# Define a generator function that generates 10 integers\n",
    "def integer_generator():\n",
    "    for i in range(10):\n",
    "        yield i\n",
    "\n",
    "# Use the generator function to build an array\n",
    "array = np.fromiter(integer_generator(), dtype=int)\n",
    "\n",
    "print(array)\n"
   ]
  },
  {
   "cell_type": "markdown",
   "metadata": {},
   "source": [
    "#### 22. Create a vector of size 10 with values ranging from 0 to 1, both excluded (★★☆)"
   ]
  },
  {
   "cell_type": "code",
   "execution_count": 18,
   "metadata": {
    "jupyter": {
     "outputs_hidden": false
    }
   },
   "outputs": [
    {
     "name": "stdout",
     "output_type": "stream",
     "text": [
      "[  0.   12.4  24.8  37.2  49.6  62.   74.4  86.8  99.2 111.6]\n"
     ]
    }
   ],
   "source": [
    "import numpy as np\n",
    "\n",
    "vector = np.linspace(0, 124, 10, endpoint=False)\n",
    "\n",
    "print(vector)\n"
   ]
  },
  {
   "cell_type": "markdown",
   "metadata": {},
   "source": [
    "#### 23. Create a random vector of size 10 and sort it (★★☆)"
   ]
  },
  {
   "cell_type": "code",
   "execution_count": 21,
   "metadata": {
    "jupyter": {
     "outputs_hidden": false
    }
   },
   "outputs": [
    {
     "name": "stdout",
     "output_type": "stream",
     "text": [
      "[0.01791206 0.50733811 0.19511649 0.78554703 0.45849254 0.07910921\n",
      " 0.55831337 0.40295616 0.14742922 0.24507142]\n",
      "[0.01791206 0.07910921 0.14742922 0.19511649 0.24507142 0.40295616\n",
      " 0.45849254 0.50733811 0.55831337 0.78554703]\n"
     ]
    }
   ],
   "source": [
    "import numpy as np\n",
    "\n",
    "# Create a random vector of size 10\n",
    "vector = np.random.random(10)\n",
    "print(vector)\n",
    "# Sort the vector in ascending order\n",
    "vector.sort()\n",
    "\n",
    "print(vector)"
   ]
  },
  {
   "cell_type": "markdown",
   "metadata": {},
   "source": [
    "#### 24. Consider two random arrays A and B, check if they are equal (★★☆)"
   ]
  },
  {
   "cell_type": "code",
   "execution_count": 24,
   "metadata": {
    "jupyter": {
     "outputs_hidden": false
    }
   },
   "outputs": [
    {
     "name": "stdout",
     "output_type": "stream",
     "text": [
      "False\n"
     ]
    }
   ],
   "source": [
    "import numpy as np\n",
    "\n",
    "# Create two random arrays A and B\n",
    "A = np.random.random((3, 3))\n",
    "B = np.random.random((3, 3))\n",
    "\n",
    "# Check if A and B are equal\n",
    "equal = np.array_equal(A, B)\n",
    "\n",
    "print(equal)\n"
   ]
  },
  {
   "cell_type": "markdown",
   "metadata": {},
   "source": [
    "#### 25. Create random vector of size 10 and replace the maximum value by 0 (★★☆)"
   ]
  },
  {
   "cell_type": "code",
   "execution_count": 25,
   "metadata": {
    "jupyter": {
     "outputs_hidden": false
    }
   },
   "outputs": [
    {
     "name": "stdout",
     "output_type": "stream",
     "text": [
      "Original vector:\n",
      "[0.11829094 0.71827772 0.34191355 0.81006879 0.86383506 0.2108555\n",
      " 0.52483758 0.85228155 0.42649911 0.04981494]\n",
      "Modified vector:\n",
      "[0.11829094 0.71827772 0.34191355 0.81006879 0.         0.2108555\n",
      " 0.52483758 0.85228155 0.42649911 0.04981494]\n"
     ]
    }
   ],
   "source": [
    "import numpy as np\n",
    "\n",
    "# Create a random vector of size 10\n",
    "vector = np.random.random(10)\n",
    "\n",
    "print(\"Original vector:\")\n",
    "print(vector)\n",
    "\n",
    "# Find the index of the maximum value\n",
    "max_index = np.argmax(vector)\n",
    "\n",
    "# Replace the maximum value with 0\n",
    "vector[max_index] = 0\n",
    "\n",
    "print(\"Modified vector:\")\n",
    "print(vector)\n"
   ]
  },
  {
   "cell_type": "markdown",
   "metadata": {},
   "source": [
    "#### 26. Find the closest value to random element in a vector? (★★☆)"
   ]
  },
  {
   "cell_type": "code",
   "execution_count": 33,
   "metadata": {
    "jupyter": {
     "outputs_hidden": false
    }
   },
   "outputs": [
    {
     "name": "stdout",
     "output_type": "stream",
     "text": [
      "Random element: 10\n",
      "Closest value: 10\n"
     ]
    }
   ],
   "source": [
    "import numpy as np\n",
    "\n",
    "# Create a vector\n",
    "vector = np.array([2, 5, 7, 10, 13, 15])\n",
    "\n",
    "# Generate a random element\n",
    "random_element = np.random.choice(vector)\n",
    "\n",
    "print(\"Random element:\", random_element)\n",
    "\n",
    "# Calculate absolute differences\n",
    "differences = np.abs(vector - random_element)\n",
    "\n",
    "# Find the index of the closest value\n",
    "closest_index = np.argmin(differences)\n",
    "\n",
    "# Get the closest value\n",
    "closest_value = vector[closest_index]\n",
    "\n",
    "print(\"Closest value:\", closest_value)\n"
   ]
  },
  {
   "cell_type": "markdown",
   "metadata": {},
   "source": [
    "#### 27. Convert a float (32 bits) array into an integer (32 bits) in place?"
   ]
  },
  {
   "cell_type": "code",
   "execution_count": 34,
   "metadata": {
    "jupyter": {
     "outputs_hidden": false
    }
   },
   "outputs": [
    {
     "name": "stdout",
     "output_type": "stream",
     "text": [
      "Original float array:\n",
      "[1.5 2.7 3.9 4.2]\n",
      "Converted integer array:\n",
      "[1 2 3 4]\n"
     ]
    }
   ],
   "source": [
    "import numpy as np\n",
    "\n",
    "# Create a float array of 32 bits\n",
    "float_array = np.array([1.5, 2.7, 3.9, 4.2], dtype=np.float32)\n",
    "\n",
    "print(\"Original float array:\")\n",
    "print(float_array)\n",
    "\n",
    "# Convert float array to integer array in-place\n",
    "float_array = float_array.astype(np.int32)\n",
    "\n",
    "print(\"Converted integer array:\")\n",
    "print(float_array)"
   ]
  },
  {
   "cell_type": "markdown",
   "metadata": {},
   "source": [
    "#### 28. Sort an array by the nth column? (★★☆)"
   ]
  },
  {
   "cell_type": "code",
   "execution_count": 35,
   "metadata": {
    "jupyter": {
     "outputs_hidden": false
    }
   },
   "outputs": [
    {
     "name": "stdout",
     "output_type": "stream",
     "text": [
      "[[8 1 9]\n",
      " [4 5 1]\n",
      " [2 6 3]]\n"
     ]
    }
   ],
   "source": [
    "import numpy as np\n",
    "\n",
    "# Create a sample array\n",
    "array = np.array([[4, 5, 1],\n",
    "                  [2, 6, 3],\n",
    "                  [8, 1, 9]])\n",
    "\n",
    "# Specify the column number (n) to sort by\n",
    "n = 1\n",
    "\n",
    "# Get the indices that would sort the array based on the nth column\n",
    "sorted_indices = np.argsort(array[:, n])\n",
    "\n",
    "# Sort the array based on the nth column\n",
    "sorted_array = array[sorted_indices]\n",
    "\n",
    "print(sorted_array)"
   ]
  },
  {
   "cell_type": "markdown",
   "metadata": {},
   "source": [
    "#### 29. Find if a given 2D array has null (empty) columns? (★★☆)"
   ]
  },
  {
   "cell_type": "code",
   "execution_count": 36,
   "metadata": {
    "jupyter": {
     "outputs_hidden": false
    }
   },
   "outputs": [
    {
     "name": "stdout",
     "output_type": "stream",
     "text": [
      "The array has null columns.\n",
      "Indices of null columns: [2]\n"
     ]
    }
   ],
   "source": [
    "import numpy as np\n",
    "\n",
    "# Create a sample 2D array with null columns\n",
    "array = np.array([[1, 2, np.nan, 4],\n",
    "                  [5, 6, np.nan, 8],\n",
    "                  [9, 10, np.nan, 12]])\n",
    "\n",
    "# Check if any column is null\n",
    "null_columns = np.any(np.isnan(array), axis=0)\n",
    "\n",
    "if np.any(null_columns):\n",
    "    print(\"The array has null columns.\")\n",
    "    print(\"Indices of null columns:\", np.where(null_columns)[0])\n",
    "else:\n",
    "    print(\"The array does not have null columns.\")\n"
   ]
  },
  {
   "cell_type": "markdown",
   "metadata": {},
   "source": [
    "#### 30. Consider the vector \\[1, 2, 3, 4, 5\\], how to build a new vector with 3 consecutive zeros interleaved between each value? (★★★)"
   ]
  },
  {
   "cell_type": "code",
   "execution_count": 40,
   "metadata": {
    "jupyter": {
     "outputs_hidden": false
    }
   },
   "outputs": [
    {
     "name": "stdout",
     "output_type": "stream",
     "text": [
      "[1 0 1 1 1 2 0 2 2 2 3 0 3 3 3 4 0 4 4 4 5 0 5 5 5]\n"
     ]
    }
   ],
   "source": [
    "import numpy as np\n",
    "\n",
    "# Original vector\n",
    "original_vector = np.array([1, 2, 3, 4, 5])\n",
    "\n",
    "# Number of zeros to insert between each value\n",
    "num_zeros = 3\n",
    "\n",
    "# Repeat each value in the original vector\n",
    "repeated_vector = np.repeat(original_vector, num_zeros + 1)\n",
    "\n",
    "# Insert zeros between each value\n",
    "new_vector = np.insert(repeated_vector, np.arange(1, len(original_vector) * (num_zeros + 1) + 1, num_zeros + 1), 0)\n",
    "\n",
    "print(new_vector)\n",
    "\n"
   ]
  },
  {
   "cell_type": "markdown",
   "metadata": {},
   "source": [
    "#### 31. Swap two rows of an array? (★★★)"
   ]
  },
  {
   "cell_type": "code",
   "execution_count": 41,
   "metadata": {
    "jupyter": {
     "outputs_hidden": false
    }
   },
   "outputs": [
    {
     "name": "stdout",
     "output_type": "stream",
     "text": [
      "[[4 5 6]\n",
      " [4 5 6]\n",
      " [7 8 9]]\n"
     ]
    }
   ],
   "source": [
    "import numpy as np\n",
    "\n",
    "# Create a sample 2D array\n",
    "array = np.array([[1, 2, 3],\n",
    "                  [4, 5, 6],\n",
    "                  [7, 8, 9]])\n",
    "\n",
    "# Swap rows\n",
    "array[0], array[1] = array[1], array[0]\n",
    "\n",
    "print(array)"
   ]
  },
  {
   "cell_type": "markdown",
   "metadata": {},
   "source": [
    "#### 32. How to negate a boolean value inside an array? (★★★)"
   ]
  },
  {
   "cell_type": "code",
   "execution_count": 43,
   "metadata": {
    "jupyter": {
     "outputs_hidden": false
    }
   },
   "outputs": [
    {
     "name": "stdout",
     "output_type": "stream",
     "text": [
      "[ True False False False]\n"
     ]
    }
   ],
   "source": [
    "import numpy as np\n",
    "\n",
    "# Create a sample array with boolean values\n",
    "array = np.array([True, False, True, False])\n",
    "\n",
    "# Index of the boolean value to negate\n",
    "index = 2\n",
    "\n",
    "# Negate the boolean value at the specified index\n",
    "array[index] = np.logical_not(array[index])\n",
    "\n",
    "print(array)\n"
   ]
  },
  {
   "cell_type": "markdown",
   "metadata": {},
   "source": [
    "#### 33. Find the most frequent value in an array?"
   ]
  },
  {
   "cell_type": "code",
   "execution_count": 44,
   "metadata": {
    "jupyter": {
     "outputs_hidden": false
    }
   },
   "outputs": [
    {
     "name": "stdout",
     "output_type": "stream",
     "text": [
      "2\n"
     ]
    }
   ],
   "source": [
    "import numpy as np\n",
    "\n",
    "# Create a sample array\n",
    "array = np.array([1, 2, 3, 4, 2, 3, 1, 2, 2, 3])\n",
    "\n",
    "# Find the most frequent value\n",
    "most_frequent_value = np.bincount(array).argmax()\n",
    "\n",
    "print(most_frequent_value)\n"
   ]
  },
  {
   "cell_type": "markdown",
   "metadata": {},
   "source": [
    "#### 34. Get the n largest values of an array (★★★)"
   ]
  },
  {
   "cell_type": "code",
   "execution_count": 45,
   "metadata": {
    "jupyter": {
     "outputs_hidden": false
    }
   },
   "outputs": [
    {
     "name": "stdout",
     "output_type": "stream",
     "text": [
      "[7 8 9]\n"
     ]
    }
   ],
   "source": [
    "import numpy as np\n",
    "\n",
    "# Create a sample array\n",
    "array = np.array([3, 1, 7, 2, 9, 5, 6, 8, 4])\n",
    "\n",
    "# Number of largest values to retrieve\n",
    "n = 3\n",
    "\n",
    "# Get the n largest values\n",
    "largest_values = np.partition(array, -n)[-n:]\n",
    "\n",
    "print(largest_values)\n"
   ]
  },
  {
   "cell_type": "markdown",
   "metadata": {},
   "source": [
    "#### 35. Extract unique rows from a two dimensional array? (★★★)"
   ]
  },
  {
   "cell_type": "code",
   "execution_count": 46,
   "metadata": {
    "jupyter": {
     "outputs_hidden": false
    }
   },
   "outputs": [
    {
     "name": "stdout",
     "output_type": "stream",
     "text": [
      "[[1 2 3]\n",
      " [4 5 6]\n",
      " [7 8 9]]\n"
     ]
    }
   ],
   "source": [
    "import numpy as np\n",
    "\n",
    "# Create a sample 2D array\n",
    "array = np.array([[1, 2, 3],\n",
    "                  [4, 5, 6],\n",
    "                  [1, 2, 3],\n",
    "                  [7, 8, 9]])\n",
    "\n",
    "# Extract unique rows\n",
    "unique_rows = np.unique(array, axis=0)\n",
    "\n",
    "print(unique_rows)\n"
   ]
  },
  {
   "cell_type": "code",
   "execution_count": null,
   "metadata": {},
   "outputs": [],
   "source": []
  }
 ],
 "metadata": {
  "kernelspec": {
   "display_name": "Python 3 (ipykernel)",
   "language": "python",
   "name": "python3"
  },
  "language_info": {
   "codemirror_mode": {
    "name": "ipython",
    "version": 3
   },
   "file_extension": ".py",
   "mimetype": "text/x-python",
   "name": "python",
   "nbconvert_exporter": "python",
   "pygments_lexer": "ipython3",
   "version": "3.10.9"
  }
 },
 "nbformat": 4,
 "nbformat_minor": 4
}
